{
 "cells": [
  {
   "cell_type": "markdown",
   "metadata": {},
   "source": [
    "### Q1. Read the paper and write a 4-7 sentence (about a paragraph) summary. State in your own words what you learned, what expanding your knowledge of the topic and what you found interesting about the information you received. Please include the major points of the paper, and any weaknesses the authors point out with their research."
   ]
  },
  {
   "attachments": {},
   "cell_type": "markdown",
   "metadata": {},
   "source": [
    "* This paper mainly focuses on all the factors that are associated with fatal pedestrian crashes that occured in Kansas and USA.  KARS(Kansas Accident Reporting System) and USA FARS(Fatality Analysis Reporting System) data is used in this study. The objective of this study are to compare trend of pedestrian facilities in Kansac than that of USA, determine relation between different variables constants like human variables(age and gender), enviromental variables(atmospheric condition), time, etc. Inadequate vision, physical limitations, a loss of reflection, etc. are The causes of senior pedestrian fatalities includes physical limitations, loss of reflection, inadequate vision,etc. The countermeasures can be implemented to reduce number of pedestrian crashes. "
   ]
  },
  {
   "cell_type": "markdown",
   "metadata": {},
   "source": [
    "###  Q2.  Answer the following questions:"
   ]
  },
  {
   "cell_type": "markdown",
   "metadata": {},
   "source": [
    "#### (a) What time of day is most common for pedestrian fatalities in Kansas (over all years)?\n"
   ]
  },
  {
   "cell_type": "markdown",
   "metadata": {},
   "source": [
    "* Between midnight and 6 am, fatal pedestrian crashes occurs maximum number of times with approx 24%. Between 9 pm and midnight, fataties occur at 23%."
   ]
  },
  {
   "cell_type": "markdown",
   "metadata": {},
   "source": [
    "#### (b) How does this compare with the most common time of day for the US overall?\n",
    " "
   ]
  },
  {
   "cell_type": "markdown",
   "metadata": {},
   "source": [
    "* This time period only makes up 9% of all fatalities in the USA, which is the least amount of pedestrian fatalities among all the intervals. Between 6 pm and 9 pm, highest number of pedestrian fatalities (25 %) occur."
   ]
  },
  {
   "cell_type": "markdown",
   "metadata": {},
   "source": [
    "#### (c) Looking at figure 11, would you say poor atmospheric conditions have a significant impact on pedestrial fatalities?"
   ]
  },
  {
   "cell_type": "markdown",
   "metadata": {},
   "source": [
    "* From the figure we can see that, whenever there is a clear day with no adverse condition, the major of fatal crashes occur at a rate of 87% of fatal pedestrian crashes in Kansas and 89% in USA.  10% of all fatal pedestrian accidents in Kansas and 8% nationwide occur in the rain. In both the United States and Kansas, snow is the factor that causes the fewest collisions. People often choose to stroll when the weather is nice, which ultimately increases the frequency of deadly pedestrian collisions."
   ]
  },
  {
   "cell_type": "markdown",
   "metadata": {},
   "source": [
    "#### (d) On page 392, the author states “For Kansas, speed limits between 30 mph and 40 mph account for 52% of total crashes (26% crashes for 30 mph and 26% for 35 mph or 40mph), …”. Why is this statement as written incorrect?"
   ]
  },
  {
   "cell_type": "markdown",
   "metadata": {},
   "source": [
    "* There are many rural roads in Kansas where the speed limit is high and where rules are not consistently enforced, all of which could increase the likelihood of deadly pedestrian accidents.\n"
   ]
  },
  {
   "cell_type": "markdown",
   "metadata": {},
   "source": [
    "#### (e) Take the data from Figure 4 and Figure 9 and combine them. What you will end up with is a grouping by age band, then by time of day. Your final graph will be able to answer questions about which age group is more or less likely to experience a pedestrian fatality during which time of day."
   ]
  },
  {
   "cell_type": "markdown",
   "metadata": {},
   "source": [
    "* Breakers need to be installed after a particular amount of time. The established speed limits on the roadways should also be made known to the public."
   ]
  },
  {
   "cell_type": "markdown",
   "metadata": {},
   "source": [
    "# Perform cluster analysis on NHTSA FARS data"
   ]
  },
  {
   "cell_type": "code",
   "execution_count": 1,
   "metadata": {},
   "outputs": [],
   "source": [
    "import os,requests,collections,zipfile # importing libraries\n",
    "import pandas as pd\n",
    "import numpy as np\n",
    "import matplotlib.pyplot as plt\n",
    "import seaborn as sns\n",
    "from sklearn.preprocessing import StandardScaler\n",
    "from sklearn.cluster import KMeans\n",
    "from scipy.cluster.hierarchy import dendrogram\n",
    "from sklearn.cluster import AgglomerativeClustering"
   ]
  },
  {
   "cell_type": "code",
   "execution_count": 2,
   "metadata": {},
   "outputs": [],
   "source": [
    "df_main = pd.DataFrame()\n",
    "\n",
    "for k in range(1975, 2021, 5):\n",
    "    df_accident = pd.read_csv(f\"accident_all_years/{k}_accident.csv\", encoding = 'ISO-8859-1',low_memory=False)\n",
    "    \n",
    "    df_person = pd.read_csv(f\"person_all_years/{k}_person.csv\", encoding = 'ISO-8859-1',low_memory=False)\n",
    "    df_person.drop([\"HARM_EV\"],inplace=True,axis=1)\n",
    "    \n",
    "    df_vehicle = pd.read_csv(f\"vehicle_all_years/{k}_vehicle.csv\", encoding = 'ISO-8859-1',low_memory=False)\n",
    "    df_vehicle.drop([\"HARM_EV\"],inplace=True,axis=1)\n",
    "    \n",
    "    df_merge = pd.merge(df_accident,df_person,on='ST_CASE',how=\"inner\").reset_index(drop=True)\n",
    "    \n",
    "    df_main=pd.merge(df_merge,df_vehicle,on=\"ST_CASE\",how=\"inner\").reset_index(drop=True)"
   ]
  },
  {
   "cell_type": "code",
   "execution_count": 3,
   "metadata": {},
   "outputs": [],
   "source": [
    "df_main=df_main[df_main[\"STATENAME_x\"] != \"KANAS\"]\n",
    "\n",
    "df_main=df_main[[\"AGE\",\"FATALS\",\"HARM_EV\",\"VSPD_LIM\",\"HOURNAME\",\"HOUR\",\"YEAR\"]]\n",
    "\n",
    "df_main=df_main[df_main[\"HARM_EV\"]==8]"
   ]
  },
  {
   "cell_type": "code",
   "execution_count": 4,
   "metadata": {},
   "outputs": [],
   "source": [
    "df_main[\"VSPD_LIM\"].mask(df_main[\"VSPD_LIM\"]>=60,\"60 mph ot higher\",inplace=True)\n",
    "df_main[\"VSPD_LIM\"].mask(df_main[\"VSPD_LIM\"]==35,\"35 or 40 mph\",inplace=True)\n",
    "df_main[\"VSPD_LIM\"].mask(df_main[\"VSPD_LIM\"]==40,\"35 or 40 mph\",inplace=True)\n",
    "df_main[\"VSPD_LIM\"].mask(df_main[\"VSPD_LIM\"]==45,\"45 or 50 mph\",inplace=True)\n",
    "df_main[\"VSPD_LIM\"].mask(df_main[\"VSPD_LIM\"]==50,\"45 or 50 mph\",inplace=True)\n",
    "df_main[\"VSPD_LIM\"].mask(df_main[\"VSPD_LIM\"]==55,\"55 mph\",inplace=True)"
   ]
  },
  {
   "cell_type": "code",
   "execution_count": 5,
   "metadata": {},
   "outputs": [],
   "source": [
    "dis=[0,5,10,15,20,25,30]\n",
    "for i in dis:\n",
    "    df_main[\"VSPD_LIM\"].mask(df_main[\"VSPD_LIM\"]==i,\"30 mph or less\",inplace=True)"
   ]
  },
  {
   "cell_type": "code",
   "execution_count": 6,
   "metadata": {},
   "outputs": [],
   "source": [
    "ab=df_main.groupby(by=\"VSPD_LIM\").sum()\n",
    "vel=[\"30 mph or less\",\"35 or 40 mph\",\"45 or 50 mph\",\"55 mph\",\"60 mph ot higher\"]\n",
    "\n",
    "fatals_tot=ab[\"FATALS\"].sum()\n",
    "fatals_per=[]\n",
    "for i in range(len(vel)):\n",
    "    fatals_per.append(ab[\"FATALS\"][i]/fatals_tot*100)"
   ]
  },
  {
   "cell_type": "markdown",
   "metadata": {},
   "source": [
    "#### Recreate the graph (with actual FARS data) "
   ]
  },
  {
   "cell_type": "code",
   "execution_count": 7,
   "metadata": {
    "scrolled": false
   },
   "outputs": [
    {
     "data": {
      "image/png": "[encoded data removed]",
      "text/plain": [
       "<Figure size 720x432 with 1 Axes>"
      ]
     },
     "metadata": {
      "needs_background": "light"
     },
     "output_type": "display_data"
    }
   ],
   "source": [
    "plt.figure(figsize=(10,6))\n",
    "plt.bar(x=vel,color=\"crimson\",alpha=0.5,height=fatals_per)\n",
    "plt.xticks(rotation=90)\n",
    "plt.xlabel(\"Speed\",fontsize=15)\n",
    "plt.ylabel(\"Percentage of fatal crashes\",fontsize=12)\n",
    "plt.title(\"Fatal pedestrian crashes based on speed limit\",fontsize=15)\n",
    "plt.show()"
   ]
  },
  {
   "cell_type": "markdown",
   "metadata": {},
   "source": [
    "#### Recreate Figure 4 and Figure 9."
   ]
  },
  {
   "cell_type": "code",
   "execution_count": 8,
   "metadata": {},
   "outputs": [],
   "source": [
    "age=[]\n",
    "for i in df_main[\"AGE\"]:\n",
    "    if i>0 and i<16:\n",
    "        age.append(\"< 16\")\n",
    "    elif i>=16 and i<=24:\n",
    "        age.append(\"16-24\")\n",
    "    elif i>=25 and i<=34:\n",
    "        age.append(\"25-34\")\n",
    "    elif i>=35 and i<=44:\n",
    "        age.append(\"35-44\")\n",
    "    elif i>=45 and i<=54:\n",
    "        age.append(\"45-54\")\n",
    "    elif i>=55 and i<=64:\n",
    "        age.append(\"55-64\")\n",
    "    else:\n",
    "        age.append(\"65+\")\n",
    "df_main[\"AGE_GRP\"]=age\n",
    "ab=df_main.groupby(by=\"AGE_GRP\").sum()"
   ]
  },
  {
   "cell_type": "code",
   "execution_count": 9,
   "metadata": {},
   "outputs": [
    {
     "data": {
      "image/png": "[encoded data removed]",
      "text/plain": [
       "<Figure size 864x648 with 1 Axes>"
      ]
     },
     "metadata": {
      "needs_background": "light"
     },
     "output_type": "display_data"
    }
   ],
   "source": [
    "plt.figure(figsize=(12,9))\n",
    "plt.bar(x=ab.index,height=ab[\"FATALS\"])\n",
    "plt.xticks(rotation=45)\n",
    "plt.xlabel(\"Age Groups\")\n",
    "plt.ylabel(\"No of pedestrians killed\")\n",
    "plt.title(\"Pedestrian fatalities on age from 1975-2020\")\n",
    "plt.show()"
   ]
  },
  {
   "cell_type": "code",
   "execution_count": 10,
   "metadata": {},
   "outputs": [],
   "source": [
    "timeperiod=[]\n",
    "for i in df_main[\"HOUR\"]:\n",
    "    if i>=0 and i<=5:\n",
    "        timeperiod.append(\"Midnight to 5:59 am\")\n",
    "    elif i>=6 and i<=8:\n",
    "        timeperiod.append(\"6 am to 8:59 am\")\n",
    "    elif i>=9 and i<=14:\n",
    "        timeperiod.append(\"9 am to 2:59 pm\")\n",
    "    elif i>=15 and i<=17:\n",
    "        timeperiod.append(\"3 pm to 5:59 pm\")\n",
    "    elif i>=18 and i<=20:\n",
    "        timeperiod.append(\"6pm to 8:59 pm\")\n",
    "    else:\n",
    "        timeperiod.append(\"9 pm to 11:59 pm\")"
   ]
  },
  {
   "cell_type": "code",
   "execution_count": 11,
   "metadata": {},
   "outputs": [],
   "source": [
    "df_main[\"Time_grp\"]=timeperiod\n",
    "ae=df_main.groupby(by=\"Time_grp\").sum()"
   ]
  },
  {
   "cell_type": "code",
   "execution_count": 12,
   "metadata": {
    "scrolled": false
   },
   "outputs": [
    {
     "data": {
      "image/png": "[encoded data removed]",
      "text/plain": [
       "<Figure size 720x432 with 1 Axes>"
      ]
     },
     "metadata": {
      "needs_background": "light"
     },
     "output_type": "display_data"
    }
   ],
   "source": [
    "plt.figure(figsize=(10,6))\n",
    "plt.bar(x=ae.index,height=ae[\"FATALS\"]/ae[\"FATALS\"].sum()*100,color='purple',alpha=0.5)\n",
    "plt.xticks(rotation=90)\n",
    "plt.xlabel(\"Time Groups\")\n",
    "plt.ylabel(\"Percentage of fatalitiess\")\n",
    "plt.title(\"Time distribution of pedestrian fatalities\")\n",
    "plt.show()"
   ]
  },
  {
   "cell_type": "markdown",
   "metadata": {},
   "source": [
    "#### Take the data from Figure 4 and Figure 9 and combine them. What you will end up with is a grouping by age band, then by time of day. Your final graph will be able to answer questions about which age group is more or less likely to experience a pedestrian fatality during which time of day."
   ]
  },
  {
   "cell_type": "code",
   "execution_count": 13,
   "metadata": {},
   "outputs": [
    {
     "data": {
      "image/png": "[encoded data removed]",
      "text/plain": [
       "<Figure size 864x432 with 1 Axes>"
      ]
     },
     "metadata": {
      "needs_background": "light"
     },
     "output_type": "display_data"
    }
   ],
   "source": [
    "plt.figure(figsize=(12,6))\n",
    "sns.countplot(x=\"Time_grp\",hue=\"AGE_GRP\",data=df_main)\n",
    "plt.xticks(rotation=45)\n",
    "plt.xlabel(\"Pedestrian fatality\")\n",
    "plt.show()"
   ]
  },
  {
   "cell_type": "markdown",
   "metadata": {},
   "source": [
    "#### Task: (Reshape the US dataset from HW1)"
   ]
  },
  {
   "cell_type": "code",
   "execution_count": 15,
   "metadata": {},
   "outputs": [
    {
     "data": {
      "text/html": [
       "<div>\n",
       "<style scoped>\n",
       "    .dataframe tbody tr th:only-of-type {\n",
       "        vertical-align: middle;\n",
       "    }\n",
       "\n",
       "    .dataframe tbody tr th {\n",
       "        vertical-align: top;\n",
       "    }\n",
       "\n",
       "    .dataframe thead th {\n",
       "        text-align: right;\n",
       "    }\n",
       "</style>\n",
       "<table border=\"1\" class=\"dataframe\">\n",
       "  <thead>\n",
       "    <tr style=\"text-align: right;\">\n",
       "      <th></th>\n",
       "      <th>STATE</th>\n",
       "      <th>MONTH</th>\n",
       "      <th>DAY</th>\n",
       "      <th>HOUR</th>\n",
       "      <th>PERSONS</th>\n",
       "      <th>MAN_COLL</th>\n",
       "      <th>LGT_COND</th>\n",
       "      <th>WEATHER</th>\n",
       "      <th>SCH_BUS</th>\n",
       "      <th>FATALS</th>\n",
       "      <th>DAY_WEEK</th>\n",
       "      <th>DRUNK_DR</th>\n",
       "      <th>HARM_EV</th>\n",
       "    </tr>\n",
       "  </thead>\n",
       "  <tbody>\n",
       "    <tr>\n",
       "      <th>306311</th>\n",
       "      <td>51</td>\n",
       "      <td>11</td>\n",
       "      <td>10</td>\n",
       "      <td>12</td>\n",
       "      <td>1</td>\n",
       "      <td>0</td>\n",
       "      <td>1</td>\n",
       "      <td>1</td>\n",
       "      <td>0.0</td>\n",
       "      <td>1</td>\n",
       "      <td>4</td>\n",
       "      <td>1</td>\n",
       "      <td>8</td>\n",
       "    </tr>\n",
       "    <tr>\n",
       "      <th>102162</th>\n",
       "      <td>25</td>\n",
       "      <td>12</td>\n",
       "      <td>24</td>\n",
       "      <td>17</td>\n",
       "      <td>3</td>\n",
       "      <td>0</td>\n",
       "      <td>3</td>\n",
       "      <td>1</td>\n",
       "      <td>0.0</td>\n",
       "      <td>1</td>\n",
       "      <td>3</td>\n",
       "      <td>0</td>\n",
       "      <td>8</td>\n",
       "    </tr>\n",
       "    <tr>\n",
       "      <th>79306</th>\n",
       "      <td>48</td>\n",
       "      <td>7</td>\n",
       "      <td>29</td>\n",
       "      <td>23</td>\n",
       "      <td>2</td>\n",
       "      <td>0</td>\n",
       "      <td>2</td>\n",
       "      <td>1</td>\n",
       "      <td>0.0</td>\n",
       "      <td>1</td>\n",
       "      <td>3</td>\n",
       "      <td>0</td>\n",
       "      <td>8</td>\n",
       "    </tr>\n",
       "    <tr>\n",
       "      <th>67082</th>\n",
       "      <td>36</td>\n",
       "      <td>6</td>\n",
       "      <td>5</td>\n",
       "      <td>4</td>\n",
       "      <td>1</td>\n",
       "      <td>0</td>\n",
       "      <td>2</td>\n",
       "      <td>1</td>\n",
       "      <td>0.0</td>\n",
       "      <td>1</td>\n",
       "      <td>5</td>\n",
       "      <td>0</td>\n",
       "      <td>8</td>\n",
       "    </tr>\n",
       "    <tr>\n",
       "      <th>44829</th>\n",
       "      <td>6</td>\n",
       "      <td>6</td>\n",
       "      <td>27</td>\n",
       "      <td>13</td>\n",
       "      <td>2</td>\n",
       "      <td>0</td>\n",
       "      <td>1</td>\n",
       "      <td>1</td>\n",
       "      <td>0.0</td>\n",
       "      <td>1</td>\n",
       "      <td>6</td>\n",
       "      <td>0</td>\n",
       "      <td>8</td>\n",
       "    </tr>\n",
       "  </tbody>\n",
       "</table>\n",
       "</div>"
      ],
      "text/plain": [
       "        STATE  MONTH  DAY  HOUR  PERSONS  MAN_COLL  LGT_COND  WEATHER  \\\n",
       "306311     51     11   10    12        1         0         1        1   \n",
       "102162     25     12   24    17        3         0         3        1   \n",
       "79306      48      7   29    23        2         0         2        1   \n",
       "67082      36      6    5     4        1         0         2        1   \n",
       "44829       6      6   27    13        2         0         1        1   \n",
       "\n",
       "        SCH_BUS  FATALS  DAY_WEEK  DRUNK_DR  HARM_EV  \n",
       "306311      0.0       1         4         1        8  \n",
       "102162      0.0       1         3         0        8  \n",
       "79306       0.0       1         3         0        8  \n",
       "67082       0.0       1         5         0        8  \n",
       "44829       0.0       1         6         0        8  "
      ]
     },
     "execution_count": 15,
     "metadata": {},
     "output_type": "execute_result"
    }
   ],
   "source": [
    "df_main1 = pd.DataFrame()\n",
    "for i in range(1975, 2021, 5):\n",
    "    df = pd.read_csv(f\"accident_all_years/{i}_accident.csv\", encoding = 'ISO-8859-1')\n",
    "    df_main1 = pd.concat([df_main1, df]).reset_index(drop=True)\n",
    "df_select = df_main1.loc[:, [\"STATE\",\"STATENAME\" ,'MONTH', 'DAY', 'HOUR', 'PERSONS', 'MAN_COLL', 'LGT_COND', 'WEATHER', \n",
    "                                'SCH_BUS', 'FATALS', 'DAY_WEEK', 'DRUNK_DR',\"HARM_EV\"]]\n",
    "\n",
    "df_select=df_select[df_select[\"STATENAME\"]!=\"Kansas\"]\n",
    "df_select.drop(\"STATENAME\",inplace=True,axis=1)\n",
    "df_select=df_select[df_select[\"HARM_EV\"]==8]\n",
    "df_select.dropna(inplace=True)\n",
    "df_select=df_select.sample(n=5000)\n",
    "df_select.head()"
   ]
  },
  {
   "cell_type": "markdown",
   "metadata": {},
   "source": [
    "#### Perform ad hoc K-Means clustering"
   ]
  },
  {
   "cell_type": "code",
   "execution_count": 16,
   "metadata": {},
   "outputs": [],
   "source": [
    "sc=StandardScaler()\n",
    "new_scaled_data=sc.fit_transform(df_select)"
   ]
  },
  {
   "cell_type": "code",
   "execution_count": 17,
   "metadata": {
    "scrolled": false
   },
   "outputs": [
    {
     "name": "stdout",
     "output_type": "stream",
     "text": [
      "Centroids of cluster:[[-2.55762043e-03  3.90108604e-03 -1.31662615e-02  9.73754498e-03\n",
      "  -5.49582549e-02  0.00000000e+00 -4.54605334e-02 -9.86035575e-02\n",
      "  -7.22992486e-02 -1.14817802e-01 -1.45484756e-02 -4.11379051e-01\n",
      "   0.00000000e+00]\n",
      " [ 2.66903991e-01 -3.51870260e-01 -1.54748787e-01 -4.01124612e-01\n",
      "   1.26740591e-01  0.00000000e+00 -7.76403212e-01 -8.07367257e-02\n",
      "   1.38314024e+01  2.14739609e-01 -2.11456754e-01 -4.11379051e-01\n",
      "   0.00000000e+00]\n",
      " [-1.52915051e-02  2.64755305e-03  7.42030579e-02 -5.37963672e-02\n",
      "   2.60584471e-01  0.00000000e+00  2.05621067e-01 -1.29957809e-01\n",
      "  -7.22992486e-02 -1.14817802e-01  9.14687516e-02  2.29512567e+00\n",
      "   0.00000000e+00]\n",
      " [ 9.01868380e-02 -1.48730677e-01  8.23024827e-02 -1.74381839e-01\n",
      "   1.19553898e+00  0.00000000e+00  8.75316774e-03 -1.17507971e-01\n",
      "  -7.22992486e-02  8.58755760e+00  5.48180304e-02  2.69022944e-01\n",
      "   0.00000000e+00]\n",
      " [ 1.66442331e-01  1.19588888e-02 -3.90859251e-02  3.90110175e-01\n",
      "  -8.56729550e-01  0.00000000e+00  9.82447699e-01  9.30190530e+00\n",
      "  -7.22992486e-02  4.09729742e-02 -1.09862033e-01 -3.18233109e-01\n",
      "   0.00000000e+00]]\n",
      "Centroids of cluster:[[-6.88011793e-01 -1.19365252e+00 -2.21789206e-01  1.73107881e-02\n",
      "  -2.23603408e-01  0.00000000e+00 -6.02355365e-02 -9.30419786e-02\n",
      "  -7.22992486e-02 -1.14817802e-01  2.17100839e-02 -4.11379051e-01\n",
      "   0.00000000e+00]\n",
      " [ 9.48354980e-01  7.81882321e-02  2.03407340e-01 -7.45947417e-02\n",
      "  -2.18903350e-01  0.00000000e+00 -1.97057616e-01 -9.35849132e-02\n",
      "  -7.22992486e-02 -1.14817802e-01  8.47232561e-01 -4.11379051e-01\n",
      "   0.00000000e+00]\n",
      " [-3.65313456e-01  6.07879785e-01 -3.32157412e-02  7.37579601e-01\n",
      "  -3.13185054e-01  0.00000000e+00  1.37778624e+00 -1.03927585e-01\n",
      "  -7.22992486e-02 -1.14817802e-01 -9.72257838e-02 -3.64031299e-01\n",
      "   0.00000000e+00]\n",
      " [ 9.01868380e-02 -1.48730677e-01  8.23024827e-02 -1.74381839e-01\n",
      "   1.19553898e+00  0.00000000e+00  8.75316774e-03 -1.17507971e-01\n",
      "  -7.22992486e-02  8.58755760e+00  5.48180304e-02  2.69022944e-01\n",
      "   0.00000000e+00]\n",
      " [ 1.81994880e-03 -1.98256793e-02  6.74987083e-02 -1.62905299e-01\n",
      "   1.26644463e-01  0.00000000e+00  1.70708299e-01 -1.31956390e-01\n",
      "  -7.22992486e-02 -1.14817802e-01  7.26307653e-02  2.30404502e+00\n",
      "   0.00000000e+00]\n",
      " [ 1.66442331e-01  1.19588888e-02 -3.90859251e-02  3.90110175e-01\n",
      "  -8.56729550e-01  0.00000000e+00  9.82447699e-01  9.30190530e+00\n",
      "  -7.22992486e-02  4.09729742e-02 -1.09862033e-01 -3.18233109e-01\n",
      "   0.00000000e+00]\n",
      " [-8.37470349e-01  7.05963149e-01  4.12785669e-02 -2.47278038e-01\n",
      "  -2.89336835e-01  0.00000000e+00 -5.40158004e-01 -1.04811926e-01\n",
      "  -7.22992486e-02 -1.14817802e-01 -4.12300326e-02 -4.11379051e-01\n",
      "   0.00000000e+00]\n",
      " [ 2.66903991e-01 -3.51870260e-01 -1.54748787e-01 -4.01124612e-01\n",
      "   1.26740591e-01  0.00000000e+00 -7.76403212e-01 -8.07367257e-02\n",
      "   1.38314024e+01  2.14739609e-01 -2.11456754e-01 -4.11379051e-01\n",
      "   0.00000000e+00]\n",
      " [-1.19772014e-01  2.64485815e-01  1.06327165e-01  2.60429980e-01\n",
      "   2.59122888e+00  0.00000000e+00  4.28878144e-02 -1.17291892e-01\n",
      "  -7.22992486e-02 -1.14817802e-01  1.78742753e-01 -1.38701819e-01\n",
      "   0.00000000e+00]\n",
      " [ 9.15826353e-01 -4.92217220e-02 -1.17689464e-01 -1.43263841e-01\n",
      "  -1.75265481e-01  0.00000000e+00 -3.13821135e-01 -9.19585235e-02\n",
      "  -7.22992486e-02 -1.14817802e-01 -1.04657640e+00 -4.11379051e-01\n",
      "   0.00000000e+00]]\n",
      "Centroids of cluster:[[-7.51286317e-01  5.91906362e-01 -2.50764965e-01 -1.02809959e-01\n",
      "  -2.32009853e-01  0.00000000e+00 -1.79233147e-01 -1.16484341e-01\n",
      "  -7.22992486e-02 -1.14817802e-01 -1.01421579e+00 -4.11379051e-01\n",
      "   0.00000000e+00]\n",
      " [-3.25789268e-01  6.88434220e-01  8.85318845e-01 -1.51295619e-01\n",
      "  -2.61149806e-01  0.00000000e+00 -2.55858472e-01 -9.49768002e-02\n",
      "  -7.22992486e-02 -1.14817802e-01  6.97495347e-01 -4.11379051e-01\n",
      "   0.00000000e+00]\n",
      " [ 9.54323812e-01 -6.30787892e-01  7.45104377e-01 -1.33754804e-02\n",
      "  -1.87733549e-01  0.00000000e+00 -1.53116002e-01 -9.89527285e-02\n",
      "  -7.22992486e-02 -1.14817802e-01 -4.63497368e-01 -4.11379051e-01\n",
      "   0.00000000e+00]\n",
      " [ 2.35774031e-01  6.23010615e-01 -4.02006270e-01  3.34698693e-01\n",
      "  -2.64021263e-01  0.00000000e+00  1.50515374e+00 -9.58757995e-02\n",
      "  -7.22992486e-02 -1.14817802e-01  2.50879566e-01 -4.04991237e-01\n",
      "   0.00000000e+00]\n",
      " [ 8.83735865e-01  2.49843408e-01 -9.16521636e-01 -2.10114101e-01\n",
      "  -1.77931814e-01  0.00000000e+00 -5.55486782e-01 -8.81402412e-02\n",
      "  -7.22992486e-02 -1.14817802e-01  2.90557521e-01 -4.11379051e-01\n",
      "   0.00000000e+00]\n",
      " [-5.23010393e-03 -1.13629831e-02  6.59009991e-02 -1.63992295e-01\n",
      "   1.12898130e-01  0.00000000e+00  1.80314535e-01 -1.30841287e-01\n",
      "  -7.22992486e-02 -1.14817802e-01  6.98687664e-02  2.30404502e+00\n",
      "   0.00000000e+00]\n",
      " [ 2.66903991e-01 -3.51870260e-01 -1.54748787e-01 -4.01124612e-01\n",
      "   1.26740591e-01  0.00000000e+00 -7.76403212e-01 -8.07367257e-02\n",
      "   1.38314024e+01  2.14739609e-01 -2.11456754e-01 -4.11379051e-01\n",
      "   0.00000000e+00]\n",
      " [ 2.54907918e-01  4.35747949e-02 -7.31365718e-02 -1.17239529e-01\n",
      "  -8.30768381e-01  0.00000000e+00  6.80920817e-01  9.30084921e+00\n",
      "  -7.22992486e-02  4.99609036e-02 -1.55765295e-01 -3.12859305e-01\n",
      "   0.00000000e+00]\n",
      " [ 9.01868380e-02 -1.48730677e-01  8.23024827e-02 -1.74381839e-01\n",
      "   1.19553898e+00  0.00000000e+00  8.75316774e-03 -1.17507971e-01\n",
      "  -7.22992486e-02  8.58755760e+00  5.48180304e-02  2.69022944e-01\n",
      "   0.00000000e+00]\n",
      " [-8.61889373e-02  2.25103784e-01  1.55493393e-01  3.13947210e-01\n",
      "   2.69844504e+00  0.00000000e+00  6.90252715e-02 -1.14117714e-01\n",
      "  -7.22992486e-02 -1.14817802e-01  2.27097022e-01 -8.43773412e-02\n",
      "   0.00000000e+00]\n",
      " [-7.49565353e-01 -1.16234619e+00 -3.04216845e-01  5.89795874e-02\n",
      "  -2.40729929e-01  0.00000000e+00 -7.39744673e-02 -9.28257021e-02\n",
      "  -7.22992486e-02 -1.14817802e-01  2.07314081e-01 -4.11379051e-01\n",
      "   0.00000000e+00]\n",
      " [ 2.72730655e-01 -2.00708615e-01  1.30996237e-01  9.18417171e+00\n",
      "  -3.91610131e-01  0.00000000e+00  2.55462314e+00  1.32150019e+00\n",
      "  -7.22992486e-02 -1.14817802e-01  2.26118988e-01  3.20481918e-01\n",
      "   0.00000000e+00]]\n"
     ]
    }
   ],
   "source": [
    "arr=[5,10,12]\n",
    "for k in arr:\n",
    "    c=KMeans(n_clusters=k,init='k-means++')\n",
    "    c.fit(new_scaled_data)\n",
    "    print(\"Centroids of cluster:{}\".format(c.cluster_centers_))"
   ]
  },
  {
   "cell_type": "markdown",
   "metadata": {},
   "source": [
    "#### Perform elbow analysis to find optimal cluster size"
   ]
  },
  {
   "cell_type": "code",
   "execution_count": 18,
   "metadata": {},
   "outputs": [],
   "source": [
    "max_clusters = 15\n",
    "css = [] # within cluster sum of squares\n",
    "for k in range(1,max_clusters):\n",
    "    kmeans = KMeans(n_clusters=k,init='k-means++',max_iter=200, n_init=10, random_state=0)\n",
    "    kmeans.fit(new_scaled_data) # where d is the dataset you have standardized in the first part of this\n",
    "    css.append(kmeans.inertia_)"
   ]
  },
  {
   "cell_type": "code",
   "execution_count": 19,
   "metadata": {},
   "outputs": [
    {
     "data": {
      "image/png": "[encoded data removed]",
      "text/plain": [
       "<Figure size 432x288 with 1 Axes>"
      ]
     },
     "metadata": {
      "needs_background": "light"
     },
     "output_type": "display_data"
    }
   ],
   "source": [
    "plt.plot(css)\n",
    "plt.xlabel(\"No of clusters\")\n",
    "plt.ylabel(\"WCSS\")\n",
    "plt.title(\"ELBOW method\")\n",
    "plt.show()"
   ]
  },
  {
   "cell_type": "markdown",
   "metadata": {},
   "source": [
    "#### Find out where Kansas fits in"
   ]
  },
  {
   "cell_type": "code",
   "execution_count": 21,
   "metadata": {},
   "outputs": [],
   "source": [
    "c1=KMeans(n_clusters=6,init='k-means++')\n",
    "c1.fit(new_scaled_data)\n",
    "label=c1.predict(new_scaled_data)"
   ]
  },
  {
   "cell_type": "code",
   "execution_count": 22,
   "metadata": {},
   "outputs": [],
   "source": [
    "s1=[]\n",
    "fatal=[]\n",
    "for i in range(len(new_scaled_data)):\n",
    "    fatal.append(new_scaled_data[i][9])\n",
    "    s1.append(new_scaled_data[i][0])"
   ]
  },
  {
   "cell_type": "code",
   "execution_count": 23,
   "metadata": {},
   "outputs": [
    {
     "data": {
      "text/plain": [
       "<matplotlib.axes._subplots.AxesSubplot at 0x18e049670a0>"
      ]
     },
     "execution_count": 23,
     "metadata": {},
     "output_type": "execute_result"
    },
    {
     "data": {
      "image/png": "[encoded data removed]",
      "text/plain": [
       "<Figure size 432x288 with 1 Axes>"
      ]
     },
     "metadata": {
      "needs_background": "light"
     },
     "output_type": "display_data"
    }
   ],
   "source": [
    "sns.scatterplot(s1,fatal,hue=label)"
   ]
  },
  {
   "cell_type": "markdown",
   "metadata": {},
   "source": [
    "* According to what we found using our optimal K value using elbow method which is 6 in our case it seems that Kansas is going to fit in cluster has label 0"
   ]
  },
  {
   "cell_type": "markdown",
   "metadata": {},
   "source": [
    "#### Perform Agglomorative Clustering"
   ]
  },
  {
   "cell_type": "code",
   "execution_count": 24,
   "metadata": {},
   "outputs": [],
   "source": [
    "def plot_dendrogram(model, **kwargs):\n",
    "    # Create linkage matrix and then plot the dendrogram\n",
    "\n",
    "    # create the counts of samples under each node\n",
    "    counts = np.zeros(model.children_.shape[0])\n",
    "    n_samples = len(model.labels_)\n",
    "    for i, merge in enumerate(model.children_):\n",
    "        current_count = 0\n",
    "        for child_idx in merge:\n",
    "            if child_idx < n_samples:\n",
    "                current_count += 1  # leaf node\n",
    "            else:\n",
    "                current_count += counts[child_idx - n_samples]\n",
    "        counts[i] = current_count\n",
    "\n",
    "    linkage_matrix = np.column_stack(\n",
    "        [model.children_, model.distances_, counts]\n",
    "    ).astype(float)\n",
    "\n",
    "    # Plot the corresponding dendrogram\n",
    "    dendrogram(linkage_matrix, **kwargs)"
   ]
  },
  {
   "cell_type": "code",
   "execution_count": 25,
   "metadata": {},
   "outputs": [],
   "source": [
    "aglo_c=AgglomerativeClustering(n_clusters=5)\n",
    "aglo_c=aglo_c.fit(new_scaled_data)"
   ]
  },
  {
   "cell_type": "code",
   "execution_count": 26,
   "metadata": {},
   "outputs": [
    {
     "data": {
      "image/png": "[encoded data removed]",
      "text/plain": [
       "<Figure size 432x288 with 1 Axes>"
      ]
     },
     "metadata": {
      "needs_background": "light"
     },
     "output_type": "display_data"
    }
   ],
   "source": [
    "def plot_dendrogram(model, **kwargs):\n",
    "    # Create linkage matrix and then plot the dendrogram\n",
    "    # create the counts of samples under each node\n",
    "    counts = np.zeros(model.children_.shape[0])\n",
    "    n_samples = len(model.labels_)\n",
    "    for i, merge in enumerate(model.children_):\n",
    "        current_count = 0\n",
    "        for child_idx in merge:\n",
    "            if child_idx < n_samples:\n",
    "                current_count += 1  # leaf node\n",
    "            else:\n",
    "                current_count += counts[child_idx - n_samples]\n",
    "        counts[i] = current_count\n",
    "\n",
    "    linkage_matrix = np.column_stack(\n",
    "        [model.children_, model.distances_, counts]\n",
    "    ).astype(float)\n",
    "\n",
    "    # Plot the corresponding dendrogram\n",
    "    dendrogram(linkage_matrix, **kwargs)\n",
    "\n",
    "\n",
    "model = AgglomerativeClustering(distance_threshold=0, n_clusters=None)\n",
    "\n",
    "model = model.fit(new_scaled_data)\n",
    "plt.title(\"Hierarchical Clustering Dendrogram\")\n",
    "plot_dendrogram(model, truncate_mode=\"level\", p=3)\n",
    "plt.xlabel(\"Number of points in node (or index of point if no parenthesis).\")\n",
    "plt.show()"
   ]
  }
 ],
 "metadata": {
  "kernelspec": {
   "display_name": "Python 3",
   "language": "python",
   "name": "python3"
  },
  "language_info": {
   "codemirror_mode": {
    "name": "ipython",
    "version": 3
   },
   "file_extension": ".py",
   "mimetype": "text/x-python",
   "name": "python",
   "nbconvert_exporter": "python",
   "pygments_lexer": "ipython3",
   "version": "3.8.3"
  }
 },
 "nbformat": 4,
 "nbformat_minor": 5
}
